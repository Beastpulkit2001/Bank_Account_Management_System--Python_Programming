{
 "cells": [
  {
   "cell_type": "markdown",
   "id": "f782d203-2d22-4b4b-b4cb-54e539c9640d",
   "metadata": {},
   "source": [
    "# Bank Account Management System"
   ]
  },
  {
   "cell_type": "code",
   "execution_count": 121,
   "id": "9fe0de7b-e8a0-4785-b508-f873e01c8063",
   "metadata": {},
   "outputs": [
    {
     "name": "stdout",
     "output_type": "stream",
     "text": [
      "-------------------- Bank Account Management System --------------------\n",
      "\n",
      "******************** Menu Options ********************\n",
      "\n",
      "    👉Press 1 to Create New Account\n",
      "    👉Press 2 to View Account Details\n",
      "    👉Press 3 to withdraw/deposit/transfer\n",
      "    👉Press 4 to View Taransaction History\n",
      "    👉Press 5 to exit the Program\n",
      "    \n",
      "\n"
     ]
    },
    {
     "name": "stdin",
     "output_type": "stream",
     "text": [
      "Choose the Number 1-5: 1\n"
     ]
    },
    {
     "name": "stdout",
     "output_type": "stream",
     "text": [
      "\n",
      "******************** Write your Personal 📓 Details ********************\n"
     ]
    },
    {
     "name": "stdin",
     "output_type": "stream",
     "text": [
      "Enter your pan Number: asd5F3nT\n",
      "Enter your name: Alice\n",
      "Enter your Account Type (Savings/Current): savings\n",
      "Enter your Amt.: 2300\n"
     ]
    },
    {
     "name": "stdout",
     "output_type": "stream",
     "text": [
      "\n",
      "-------------------- Account Successfully Created --------------------\n",
      "\n",
      "Account Holder Name: Alice\n",
      "Pan Number: asd5F3nT\n",
      "Account Type: Savings\n",
      "Account Number: 653236208\n",
      "Bank Name: Canara Bank\n",
      "Date and Time Creted Account: February/05/2025, 10:05:40:AM\n",
      "--------------------------------------------------\n",
      "           Account Balance: ₹ 2300.0\n",
      "--------------------------------------------------\n",
      "\n"
     ]
    },
    {
     "data": {
      "text/html": [
       "<div>\n",
       "<style scoped>\n",
       "    .dataframe tbody tr th:only-of-type {\n",
       "        vertical-align: middle;\n",
       "    }\n",
       "\n",
       "    .dataframe tbody tr th {\n",
       "        vertical-align: top;\n",
       "    }\n",
       "\n",
       "    .dataframe thead th {\n",
       "        text-align: right;\n",
       "    }\n",
       "</style>\n",
       "<table border=\"1\" class=\"dataframe\">\n",
       "  <thead>\n",
       "    <tr style=\"text-align: right;\">\n",
       "      <th></th>\n",
       "      <th>asd5F3nT</th>\n",
       "    </tr>\n",
       "  </thead>\n",
       "  <tbody>\n",
       "    <tr>\n",
       "      <th>Name</th>\n",
       "      <td>Alice</td>\n",
       "    </tr>\n",
       "    <tr>\n",
       "      <th>Bank Name</th>\n",
       "      <td>Canara Bank</td>\n",
       "    </tr>\n",
       "    <tr>\n",
       "      <th>Account Number</th>\n",
       "      <td>653236208</td>\n",
       "    </tr>\n",
       "    <tr>\n",
       "      <th>Account Type</th>\n",
       "      <td>Savings</td>\n",
       "    </tr>\n",
       "    <tr>\n",
       "      <th>Date of Creation</th>\n",
       "      <td>February/05/2025, 10:05:40:AM</td>\n",
       "    </tr>\n",
       "    <tr>\n",
       "      <th>Account Balance</th>\n",
       "      <td>2300.0</td>\n",
       "    </tr>\n",
       "  </tbody>\n",
       "</table>\n",
       "</div>"
      ],
      "text/plain": [
       "                                       asd5F3nT\n",
       "Name                                      Alice\n",
       "Bank Name                           Canara Bank\n",
       "Account Number                        653236208\n",
       "Account Type                            Savings\n",
       "Date of Creation  February/05/2025, 10:05:40:AM\n",
       "Account Balance                          2300.0"
      ]
     },
     "metadata": {},
     "output_type": "display_data"
    },
    {
     "name": "stdin",
     "output_type": "stream",
     "text": [
      "Do you want to create more account (Yes/No): yes\n"
     ]
    },
    {
     "name": "stdout",
     "output_type": "stream",
     "text": [
      "******************** Write your Personal 📓 Details ********************\n"
     ]
    },
    {
     "name": "stdin",
     "output_type": "stream",
     "text": [
      "Enter your pan Number: dgt4GnuK\n",
      "Enter your name: john\n",
      "Enter your Account Type (Savings/Current): current\n",
      "Enter your Amt.: 4500\n"
     ]
    },
    {
     "name": "stdout",
     "output_type": "stream",
     "text": [
      "\n",
      "-------------------- Account Successfully Created --------------------\n",
      "\n",
      "Account Holder Name: John\n",
      "Pan Number: dgt4GnuK\n",
      "Account Type: Current\n",
      "Account Number: 274450605\n",
      "Bank Name: Bank of Baroda\n",
      "Date and Time Creted Account: February/05/2025, 10:06:41:AM\n",
      "--------------------------------------------------\n",
      "           Account Balance: ₹ 4500.0\n",
      "--------------------------------------------------\n",
      "\n"
     ]
    },
    {
     "data": {
      "text/html": [
       "<div>\n",
       "<style scoped>\n",
       "    .dataframe tbody tr th:only-of-type {\n",
       "        vertical-align: middle;\n",
       "    }\n",
       "\n",
       "    .dataframe tbody tr th {\n",
       "        vertical-align: top;\n",
       "    }\n",
       "\n",
       "    .dataframe thead th {\n",
       "        text-align: right;\n",
       "    }\n",
       "</style>\n",
       "<table border=\"1\" class=\"dataframe\">\n",
       "  <thead>\n",
       "    <tr style=\"text-align: right;\">\n",
       "      <th></th>\n",
       "      <th>asd5F3nT</th>\n",
       "      <th>dgt4GnuK</th>\n",
       "    </tr>\n",
       "  </thead>\n",
       "  <tbody>\n",
       "    <tr>\n",
       "      <th>Name</th>\n",
       "      <td>Alice</td>\n",
       "      <td>John</td>\n",
       "    </tr>\n",
       "    <tr>\n",
       "      <th>Bank Name</th>\n",
       "      <td>Canara Bank</td>\n",
       "      <td>Bank of Baroda</td>\n",
       "    </tr>\n",
       "    <tr>\n",
       "      <th>Account Number</th>\n",
       "      <td>653236208</td>\n",
       "      <td>274450605</td>\n",
       "    </tr>\n",
       "    <tr>\n",
       "      <th>Account Type</th>\n",
       "      <td>Savings</td>\n",
       "      <td>Current</td>\n",
       "    </tr>\n",
       "    <tr>\n",
       "      <th>Date of Creation</th>\n",
       "      <td>February/05/2025, 10:05:40:AM</td>\n",
       "      <td>February/05/2025, 10:06:41:AM</td>\n",
       "    </tr>\n",
       "    <tr>\n",
       "      <th>Account Balance</th>\n",
       "      <td>2300.0</td>\n",
       "      <td>4500.0</td>\n",
       "    </tr>\n",
       "  </tbody>\n",
       "</table>\n",
       "</div>"
      ],
      "text/plain": [
       "                                       asd5F3nT                       dgt4GnuK\n",
       "Name                                      Alice                           John\n",
       "Bank Name                           Canara Bank                 Bank of Baroda\n",
       "Account Number                        653236208                      274450605\n",
       "Account Type                            Savings                        Current\n",
       "Date of Creation  February/05/2025, 10:05:40:AM  February/05/2025, 10:06:41:AM\n",
       "Account Balance                          2300.0                         4500.0"
      ]
     },
     "metadata": {},
     "output_type": "display_data"
    },
    {
     "name": "stdin",
     "output_type": "stream",
     "text": [
      "Do you want to create more account (Yes/No): no\n"
     ]
    },
    {
     "name": "stdout",
     "output_type": "stream",
     "text": [
      "******************** Menu Options ********************\n",
      "\n",
      "    👉Press 1 to Create New Account\n",
      "    👉Press 2 to View Account Details\n",
      "    👉Press 3 to withdraw/deposit/transfer\n",
      "    👉Press 4 to View Taransaction History\n",
      "    👉Press 5 to exit the Program\n",
      "    \n",
      "\n"
     ]
    },
    {
     "name": "stdin",
     "output_type": "stream",
     "text": [
      "Choose the Number 1-5: 3\n"
     ]
    },
    {
     "name": "stdout",
     "output_type": "stream",
     "text": [
      "\n",
      "******************** Choose Menu ********************\n",
      "\n",
      "                1️⃣Press 1 For Withdraw\n",
      "                2️⃣Press 2 For Deposit\n",
      "                3️⃣Press 3 For Transfer\n",
      "            \n"
     ]
    },
    {
     "name": "stdin",
     "output_type": "stream",
     "text": [
      "Choose a Number 1-3: 1\n"
     ]
    },
    {
     "name": "stdout",
     "output_type": "stream",
     "text": [
      "\n"
     ]
    },
    {
     "name": "stdin",
     "output_type": "stream",
     "text": [
      "Enter Your Pan Number: asd5F3nT\n",
      "Enter Your Withdraw Amount: 450\n"
     ]
    },
    {
     "name": "stdout",
     "output_type": "stream",
     "text": [
      "\n",
      "-------------------- WithDrawn Successfully --------------------\n",
      "Money is Withdrawn from Alice A/c as on February/05/2025, 10:07:26:AM: ₹450.0\n",
      "Remaining Balance: ₹ 1850.0\n",
      "\n",
      "******************** Menu Options ********************\n",
      "\n",
      "    👉Press 1 to Create New Account\n",
      "    👉Press 2 to View Account Details\n",
      "    👉Press 3 to withdraw/deposit/transfer\n",
      "    👉Press 4 to View Taransaction History\n",
      "    👉Press 5 to exit the Program\n",
      "    \n",
      "\n"
     ]
    },
    {
     "name": "stdin",
     "output_type": "stream",
     "text": [
      "Choose the Number 1-5: 3\n"
     ]
    },
    {
     "name": "stdout",
     "output_type": "stream",
     "text": [
      "\n",
      "******************** Choose Menu ********************\n",
      "\n",
      "                1️⃣Press 1 For Withdraw\n",
      "                2️⃣Press 2 For Deposit\n",
      "                3️⃣Press 3 For Transfer\n",
      "            \n"
     ]
    },
    {
     "name": "stdin",
     "output_type": "stream",
     "text": [
      "Choose a Number 1-3: 2\n"
     ]
    },
    {
     "name": "stdout",
     "output_type": "stream",
     "text": [
      "\n"
     ]
    },
    {
     "name": "stdin",
     "output_type": "stream",
     "text": [
      "Enter Your Pan Number: asd5F3nT\n",
      "Enter Your Amount: 560\n"
     ]
    },
    {
     "name": "stdout",
     "output_type": "stream",
     "text": [
      "-------------------- Deposit Successfully --------------------\n",
      "Money is Successfully Depsited to Alice A/c as on February/05/2025, 10:07:43:AM: ₹560.0\n",
      "Remaining Balance: ₹ 2410.0\n",
      "\n",
      "******************** Menu Options ********************\n",
      "\n",
      "    👉Press 1 to Create New Account\n",
      "    👉Press 2 to View Account Details\n",
      "    👉Press 3 to withdraw/deposit/transfer\n",
      "    👉Press 4 to View Taransaction History\n",
      "    👉Press 5 to exit the Program\n",
      "    \n",
      "\n"
     ]
    },
    {
     "name": "stdin",
     "output_type": "stream",
     "text": [
      "Choose the Number 1-5: 3\n"
     ]
    },
    {
     "name": "stdout",
     "output_type": "stream",
     "text": [
      "\n",
      "******************** Choose Menu ********************\n",
      "\n",
      "                1️⃣Press 1 For Withdraw\n",
      "                2️⃣Press 2 For Deposit\n",
      "                3️⃣Press 3 For Transfer\n",
      "            \n"
     ]
    },
    {
     "name": "stdin",
     "output_type": "stream",
     "text": [
      "Choose a Number 1-3: 3\n"
     ]
    },
    {
     "name": "stdout",
     "output_type": "stream",
     "text": [
      "\n"
     ]
    },
    {
     "name": "stdin",
     "output_type": "stream",
     "text": [
      "Enter Your PAN Number:  asd5F3nT\n",
      "Enter the PAN Number of the Recipient:  afed4Ftrn\n",
      "Enter the Account Number of the Recipient:  324534534\n",
      "Enter the Recipients Name:  Harry\n"
     ]
    },
    {
     "name": "stdout",
     "output_type": "stream",
     "text": [
      "\n"
     ]
    },
    {
     "name": "stdin",
     "output_type": "stream",
     "text": [
      "Enter Your Transfer Amount:  348\n"
     ]
    },
    {
     "name": "stdout",
     "output_type": "stream",
     "text": [
      "\n",
      "-------------------- Transfer Successfully --------------------\n",
      "Your money has been successfully transferred to Harry A/c as on February/05/2025, 10:08:50 AM: ₹348.0\n",
      "Remaining Balance: ₹ 2062.0\n",
      "******************** Menu Options ********************\n",
      "\n",
      "    👉Press 1 to Create New Account\n",
      "    👉Press 2 to View Account Details\n",
      "    👉Press 3 to withdraw/deposit/transfer\n",
      "    👉Press 4 to View Taransaction History\n",
      "    👉Press 5 to exit the Program\n",
      "    \n",
      "\n"
     ]
    },
    {
     "name": "stdin",
     "output_type": "stream",
     "text": [
      "Choose the Number 1-5: 4\n"
     ]
    },
    {
     "name": "stdout",
     "output_type": "stream",
     "text": [
      "\n"
     ]
    },
    {
     "name": "stdin",
     "output_type": "stream",
     "text": [
      "Enter Your Pan Number: asd5F3nT\n"
     ]
    },
    {
     "name": "stdout",
     "output_type": "stream",
     "text": [
      "\n",
      "-------------------- Transaction History --------------------\n",
      "\n",
      "1. Money is Credited On February/05/2025, 10:07:26:AM From Alice A/c: ₹450.0\n",
      "\n",
      "2. Money is Debited On February/05/2025, 10:07:43:AM to Alice A/c: ₹560.0\n",
      "\n",
      "3. Money Transferred as on February/05/2025, 10:08:50 AM to Harry, A/c: ₹348.0\n",
      "\n"
     ]
    },
    {
     "data": {
      "text/html": [
       "<div>\n",
       "<style scoped>\n",
       "    .dataframe tbody tr th:only-of-type {\n",
       "        vertical-align: middle;\n",
       "    }\n",
       "\n",
       "    .dataframe tbody tr th {\n",
       "        vertical-align: top;\n",
       "    }\n",
       "\n",
       "    .dataframe thead th {\n",
       "        text-align: right;\n",
       "    }\n",
       "</style>\n",
       "<table border=\"1\" class=\"dataframe\">\n",
       "  <thead>\n",
       "    <tr style=\"text-align: right;\">\n",
       "      <th></th>\n",
       "      <th>asd5F3nT</th>\n",
       "    </tr>\n",
       "  </thead>\n",
       "  <tbody>\n",
       "    <tr>\n",
       "      <th>0</th>\n",
       "      <td>Money is Credited On February/05/2025, 10:07:26:AM From Alice A/c: ₹450.0</td>\n",
       "    </tr>\n",
       "    <tr>\n",
       "      <th>1</th>\n",
       "      <td>Money is Debited On February/05/2025, 10:07:43:AM to Alice A/c: ₹560.0</td>\n",
       "    </tr>\n",
       "    <tr>\n",
       "      <th>2</th>\n",
       "      <td>Money Transferred as on February/05/2025, 10:08:50 AM to Harry, A/c: ₹348.0</td>\n",
       "    </tr>\n",
       "  </tbody>\n",
       "</table>\n",
       "</div>"
      ],
      "text/plain": [
       "                                                                      asd5F3nT\n",
       "0    Money is Credited On February/05/2025, 10:07:26:AM From Alice A/c: ₹450.0\n",
       "1       Money is Debited On February/05/2025, 10:07:43:AM to Alice A/c: ₹560.0\n",
       "2  Money Transferred as on February/05/2025, 10:08:50 AM to Harry, A/c: ₹348.0"
      ]
     },
     "metadata": {},
     "output_type": "display_data"
    },
    {
     "name": "stdout",
     "output_type": "stream",
     "text": [
      "\n",
      "******************** Menu Options ********************\n",
      "\n",
      "    👉Press 1 to Create New Account\n",
      "    👉Press 2 to View Account Details\n",
      "    👉Press 3 to withdraw/deposit/transfer\n",
      "    👉Press 4 to View Taransaction History\n",
      "    👉Press 5 to exit the Program\n",
      "    \n",
      "\n"
     ]
    },
    {
     "name": "stdin",
     "output_type": "stream",
     "text": [
      "Choose the Number 1-5: 5\n"
     ]
    },
    {
     "name": "stdout",
     "output_type": "stream",
     "text": [
      "\n",
      "Exit the program\n",
      "Visit Our Bank Site Again😊\n",
      "\n"
     ]
    }
   ],
   "source": [
    "##### import numpy as np\n",
    "import emoji\n",
    "import datetime as dt\n",
    "import numpy as np\n",
    "import pandas as pd\n",
    "\n",
    "print('-'*20, 'Bank Account Management System', '-'*20)\n",
    "print()\n",
    "\n",
    "Account_Details = {}\n",
    "Transaction_History = {}\n",
    "\n",
    "while True:\n",
    "    print('*'*20, 'Menu Options', '*'*20)\n",
    "    print('''\n",
    "    \\U0001F449Press 1 to Create New Account\n",
    "    \\U0001F449Press 2 to View Account Details\n",
    "    \\U0001F449Press 3 to withdraw/deposit/transfer\n",
    "    \\U0001F449Press 4 to View Taransaction History\n",
    "    \\U0001F449Press 5 to exit the Program\n",
    "    ''')\n",
    "    print()\n",
    "    \n",
    "    num = int(input('Choose the Number 1-5:'))\n",
    "    print()\n",
    "\n",
    "    #create an account\n",
    "    if num == 1:\n",
    "        while True:\n",
    "            print( '*'*20, 'Write your Personal', emoji.emojize(\":notebook:\"), 'Details', '*'*20)\n",
    "            pan = input('Enter your pan Number:')\n",
    "            if pan in Account_Details:\n",
    "                print('\\u26A0\\uFE0FAccount Already Exist')\n",
    "                continue\n",
    "            name = input('Enter your name:').capitalize()\n",
    "            bank = np.random.choice(['Canara Bank', 'State Bank of India', 'Bank of Baroda', 'Punjab National Bank', 'Bank of America'])\n",
    "            date = dt.datetime.now().strftime(\"%B/%d/%Y, %H:%M:%S:%p\")\n",
    "            #Select Account type\n",
    "            while True:\n",
    "                acc = input('Enter your Account Type (Savings/Current):').capitalize()\n",
    "                if acc == 'Savings':\n",
    "                    break\n",
    "                elif acc == 'Current':\n",
    "                    break\n",
    "                else:\n",
    "                    print('\\u26A0\\uFE0FWarning Enter the valid Account Type')\n",
    "            initial_deposit = float(input('Enter your Amt.:'))\n",
    "            acc_no = np.random.randint(100000000, 999999999)\n",
    "            \n",
    "            Account_Details[pan] = {\n",
    "                'Name' : name,\n",
    "                'Bank Name': bank,\n",
    "                'Account Number': acc_no,\n",
    "                'Account Type': acc,\n",
    "                'Date of Creation': date,\n",
    "                'Account Balance': initial_deposit\n",
    "            }\n",
    "            \n",
    "            Transaction_History[pan] = []\n",
    "            \n",
    "            # Print Account Details\n",
    "            print()\n",
    "            print('-'*20, 'Account Successfully Created', '-'*20)\n",
    "            print()\n",
    "            print('Account Holder Name:', Account_Details[pan]['Name'])\n",
    "            print('Pan Number:', pan)\n",
    "            print('Account Type:', Account_Details[pan]['Account Type'])\n",
    "            print('Account Number:', Account_Details[pan]['Account Number'])\n",
    "            print('Bank Name:', Account_Details[pan]['Bank Name'])\n",
    "            print('Date and Time Creted Account:', Account_Details[pan]['Date of Creation'])\n",
    "            print('-'*50)\n",
    "            print(' '*10, 'Account Balance: ₹', Account_Details[pan]['Account Balance'])\n",
    "            print('-'*50)\n",
    "            print()\n",
    "\n",
    "            df = pd.DataFrame(Account_Details)\n",
    "            display(df)\n",
    "            \n",
    "            ques9 = input('Do you want to create more account (Yes/No):').capitalize()\n",
    "            if ques9 == 'No':\n",
    "                break\n",
    "           \n",
    "            \n",
    "    #Check your account details\n",
    "    elif num == 2:\n",
    "        while True:\n",
    "            ques = input('Enter your Pan Number: ')\n",
    "            print()\n",
    "            if ques in Account_Details:\n",
    "                details = Account_Details[ques]\n",
    "                print('-'*20, 'Account Details', '-'*20)\n",
    "                print('Account Holder Name:', details['Name']) # or print('Account Holder Name:', Account_Details[ques]['Name']) both are same\n",
    "                print('Pan Number:', list(Account_Details.keys())[0])\n",
    "                print('Account Type:', details['Account Type'])\n",
    "                print('Account Number:', details['Account Number'])\n",
    "                print('Bank Name:', details['Bank Name'])\n",
    "                print('Date and Time Creted Account:', details['Date of Creation'])\n",
    "                print('Account Balance: ₹', details['Account Balance'])\n",
    "                print('Thanks For Visit Again\\U0001F60A')\n",
    "                print()\n",
    "                break                \n",
    "            elif ques != list(Account_Details.keys())[0]:\n",
    "                print('\\u26A0\\uFE0FWarning Enter the valid Pan Number')\n",
    "            print()\n",
    "\n",
    "    \n",
    "    #For Withdraw/Deposit/Transfer\n",
    "    elif num == 3:\n",
    "        while True:\n",
    "            print('*'*20, 'Choose Menu', '*'*20)\n",
    "            print('''\n",
    "                \\u0031\\uFE0F\\u20E3Press 1 For Withdraw\n",
    "                \\u0032\\uFE0F\\u20E3Press 2 For Deposit\n",
    "                \\u0033\\uFE0F\\u20E3Press 3 For Transfer\n",
    "            ''')\n",
    "\n",
    "            ques2 = int(input('Choose a Number 1-3:'))\n",
    "            print()\n",
    "\n",
    "            #Withdraw Money\n",
    "            if ques2 == 1:\n",
    "                while True:\n",
    "                    ques3 = input('Enter Your Pan Number:')\n",
    "                    if ques3 in Account_Details:\n",
    "                        while True:\n",
    "                            withdraw = float(input('Enter Your Withdraw Amount:'))\n",
    "                            print()\n",
    "                            #check if the account have low balance\n",
    "                            if withdraw > Account_Details[ques3]['Account Balance']:\n",
    "                                print('You Have low balance in your Account\\u2639\\uFE0F \\nPlease Renter your Valid Amount\\U0001F60A')\n",
    "                                print()\n",
    "                            else:\n",
    "                                Account_Details[ques3]['Account Balance'] -= withdraw\n",
    "                                date1 = dt.datetime.now().strftime(\"%B/%d/%Y, %H:%M:%S:%p\")\n",
    "                                print('-'*20, 'WithDrawn Successfully', '-'*20)\n",
    "                                print(f'Money is Withdrawn from {Account_Details[ques3]['Name']} A/c as on {date1}: ₹{withdraw}')\n",
    "                                print('Remaining Balance: ₹', Account_Details[ques3]['Account Balance'])                                \n",
    "                                Transaction_History[ques3].append(f'Money is Credited On {date1} From {Account_Details[ques3]['Name']} A/c: ₹{withdraw}')\n",
    "                                print()\n",
    "                                break\n",
    "                        break\n",
    "                    else:\n",
    "                        print('\\u26A0\\uFE0FWarning Enter the valid Pan Number')\n",
    "                        print()\n",
    "                break\n",
    "\n",
    "            #Deposit Money\n",
    "            elif ques2 == 2:\n",
    "                  while True:\n",
    "                    ques4 = input('Enter Your Pan Number:')\n",
    "                    if ques4 in Account_Details:\n",
    "                        dep = float(input('Enter Your Amount:'))\n",
    "                        Account_Details[ques4]['Account Balance'] += dep                        \n",
    "                        date2 = dt.datetime.now().strftime(\"%B/%d/%Y, %H:%M:%S:%p\")\n",
    "                        Transaction_History[ques4].append(f'Money is Debited On {date2} to {Account_Details[ques4]['Name']} A/c: ₹{dep}')\n",
    "                        print('-'*20, 'Deposit Successfully', '-'*20)\n",
    "                        print(f'Money is Successfully Depsited to {Account_Details[ques4]['Name']} A/c as on {date2}: ₹{dep}')\n",
    "                        print('Remaining Balance: ₹', Account_Details[ques4]['Account Balance'])\n",
    "                        print()\n",
    "                        break\n",
    "                    else:\n",
    "                        print('\\u26A0\\uFE0FWarning Enter the valid Pan Number')\n",
    "                        print()\n",
    "                  break\n",
    "            \n",
    "            # Transfer Money\n",
    "            elif ques2 == 3:\n",
    "                while True:\n",
    "                    ques4 = input('Enter Your PAN Number: ')\n",
    "                    \n",
    "                    if ques4 in Account_Details:  # Check if PAN exists\n",
    "                        while True:\n",
    "                            ques5 = input('Enter the PAN Number of the Recipient: ')\n",
    "                            ques6 = int(input('Enter the Account Number of the Recipient: '))\n",
    "                            ques7 = input('Enter the Recipients Name: ').capitalize()\n",
    "                            print()\n",
    "                            \n",
    "                            # Loop until a valid amount is entered\n",
    "                            while True:\n",
    "                                Trans = float(input('Enter Your Transfer Amount: '))\n",
    "                                print()\n",
    "                                if Trans > Account_Details[ques4]['Account Balance']:  # Check balance\n",
    "                                    print('You have insufficient funds! \\u2639\\uFE0F')\n",
    "                                    print('Please enter a valid amount. \\U0001F60A')\n",
    "                                    print()\n",
    "                                else:\n",
    "                                    Account_Details[ques4]['Account Balance'] -= Trans  # Deduct from sender\n",
    "                                    date3 = dt.datetime.now().strftime(\"%B/%d/%Y, %H:%M:%S %p\")\n",
    "                                    print('-'*20, 'Transfer Successfully', '-'*20)\n",
    "                                    print(f'Your money has been successfully transferred to {ques7} A/c as on {date3}: ₹{Trans}')\n",
    "                                    print('Remaining Balance: ₹', Account_Details[ques4]['Account Balance'])\n",
    "            \n",
    "                                    # Record transaction                                    \n",
    "                                    Transaction_History[ques4].append(f'Money Transferred as on {date3} to {ques7}, A/c: ₹{Trans}')\n",
    "                                    \n",
    "                                    break  # Exit transaction loop\n",
    "                            \n",
    "                            break  # Exit recipient details loop\n",
    "                        \n",
    "                        break  # Exit main transfer loop\n",
    "                    \n",
    "                    else:\n",
    "                        print('\\u26A0\\uFE0F Warning: Enter a valid PAN Number')\n",
    "                        print()            \n",
    "                break    \n",
    "    #Check Transaction History\n",
    "    elif num == 4:                \n",
    "        while True:\n",
    "            ques8 = input('Enter Your Pan Number:')\n",
    "            print()\n",
    "            print('-'*20, 'Transaction History', '-'*20)\n",
    "            print()\n",
    "            if ques8 in Account_Details:\n",
    "                if not Transaction_History:\n",
    "                    print('No Transaction History')\n",
    "                    print()\n",
    "                else:\n",
    "                    for i,j in enumerate(Transaction_History[ques8], 1):\n",
    "                        print(f'{i}. {j}')\n",
    "                        print()\n",
    "                    df2 = pd.DataFrame(Transaction_History[ques8], columns = [ques8])\n",
    "                    pd.set_option('display.max_colwidth', 100) #increase the width of dataframe\n",
    "                    display(df2)\n",
    "                    print()    \n",
    "                break\n",
    "            else:\n",
    "                print('\\u26A0\\uFE0FWarning Enter the valid Pan Number')\n",
    "                break\n",
    "    #Exit The Program        \n",
    "    elif num == 5:\n",
    "        print('Exit the program')\n",
    "        print('Visit Our Bank Site Again\\U0001F60A')\n",
    "        break\n",
    "    else:\n",
    "        print('\\u26A0\\uFE0FWarning! Please Enter the Valid Number')\n",
    "\n",
    "print()"
   ]
  }
 ],
 "metadata": {
  "kernelspec": {
   "display_name": "Python 3 (ipykernel)",
   "language": "python",
   "name": "python3"
  },
  "language_info": {
   "codemirror_mode": {
    "name": "ipython",
    "version": 3
   },
   "file_extension": ".py",
   "mimetype": "text/x-python",
   "name": "python",
   "nbconvert_exporter": "python",
   "pygments_lexer": "ipython3",
   "version": "3.12.3"
  }
 },
 "nbformat": 4,
 "nbformat_minor": 5
}
